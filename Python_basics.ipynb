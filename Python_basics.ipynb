{
  "nbformat": 4,
  "nbformat_minor": 0,
  "metadata": {
    "colab": {
      "provenance": [],
      "authorship_tag": "ABX9TyMNXE4WVO4xt1W3HF0b0bAR",
      "include_colab_link": true
    },
    "kernelspec": {
      "name": "python3",
      "display_name": "Python 3"
    },
    "language_info": {
      "name": "python"
    }
  },
  "cells": [
    {
      "cell_type": "markdown",
      "metadata": {
        "id": "view-in-github",
        "colab_type": "text"
      },
      "source": [
        "<a href=\"https://colab.research.google.com/github/Nimmi8757/Basic_Command/blob/main/Python_basics.ipynb\" target=\"_parent\"><img src=\"https://colab.research.google.com/assets/colab-badge.svg\" alt=\"Open In Colab\"/></a>"
      ]
    },
    {
      "cell_type": "markdown",
      "source": [],
      "metadata": {
        "id": "8ORBYlChk3K7"
      }
    },
    {
      "cell_type": "markdown",
      "source": [
        "language used for machine learning are\n",
        "\n",
        "R\n",
        "\n",
        "Python"
      ],
      "metadata": {
        "id": "A4IPN3-NlPXr"
      }
    },
    {
      "cell_type": "code",
      "source": [
        "print('Welcome to Machine Learning')"
      ],
      "metadata": {
        "colab": {
          "base_uri": "https://localhost:8080/"
        },
        "id": "6y1WXxR9kn7l",
        "outputId": "8ff51e11-9e6d-4f92-ba14-bf070af03e57"
      },
      "execution_count": null,
      "outputs": [
        {
          "output_type": "stream",
          "name": "stdout",
          "text": [
            "Welcome to Machine Learning\n"
          ]
        }
      ]
    },
    {
      "cell_type": "markdown",
      "source": [],
      "metadata": {
        "id": "PBY2BepPlNVd"
      }
    },
    {
      "cell_type": "code",
      "source": [
        "print(\"my\"+\"room\")"
      ],
      "metadata": {
        "id": "CtXVKFH1kwMq",
        "colab": {
          "base_uri": "https://localhost:8080/"
        },
        "outputId": "548e27ba-7d12-424f-92d7-7bc989b51cbc"
      },
      "execution_count": null,
      "outputs": [
        {
          "output_type": "stream",
          "name": "stdout",
          "text": [
            "myroom\n"
          ]
        }
      ]
    },
    {
      "cell_type": "code",
      "source": [
        "print(8+3)"
      ],
      "metadata": {
        "colab": {
          "base_uri": "https://localhost:8080/"
        },
        "id": "W3EkcUTP3DOP",
        "outputId": "d025a6b0-a545-4907-c5be-1748175043b5"
      },
      "execution_count": null,
      "outputs": [
        {
          "output_type": "stream",
          "name": "stdout",
          "text": [
            "11\n"
          ]
        }
      ]
    },
    {
      "cell_type": "markdown",
      "source": [
        "**bold text**"
      ],
      "metadata": {
        "id": "9moMI_mh3JF5"
      }
    },
    {
      "cell_type": "markdown",
      "source": [
        "Basic Datatypes\n",
        "int\n",
        "float\n",
        "str"
      ],
      "metadata": {
        "id": "aMVOp_n03P-g"
      }
    },
    {
      "cell_type": "code",
      "source": [
        "type(4)"
      ],
      "metadata": {
        "colab": {
          "base_uri": "https://localhost:8080/"
        },
        "id": "TAcD8XoS3S12",
        "outputId": "ed8ece61-7d73-4b11-d371-3cae7573ddd8"
      },
      "execution_count": null,
      "outputs": [
        {
          "output_type": "execute_result",
          "data": {
            "text/plain": [
              "int"
            ]
          },
          "metadata": {},
          "execution_count": 4
        }
      ]
    },
    {
      "cell_type": "code",
      "source": [
        "type(9.09)"
      ],
      "metadata": {
        "colab": {
          "base_uri": "https://localhost:8080/"
        },
        "id": "mPR9v0823lv_",
        "outputId": "918a4355-8627-47f6-a531-380df67629c7"
      },
      "execution_count": null,
      "outputs": [
        {
          "output_type": "execute_result",
          "data": {
            "text/plain": [
              "float"
            ]
          },
          "metadata": {},
          "execution_count": 5
        }
      ]
    },
    {
      "cell_type": "code",
      "source": [
        "type(\"room\")"
      ],
      "metadata": {
        "colab": {
          "base_uri": "https://localhost:8080/"
        },
        "id": "ytmDVqjv3ojh",
        "outputId": "31518444-e39e-4054-b74d-04852c2d7f4f"
      },
      "execution_count": null,
      "outputs": [
        {
          "output_type": "execute_result",
          "data": {
            "text/plain": [
              "str"
            ]
          },
          "metadata": {},
          "execution_count": 6
        }
      ]
    },
    {
      "cell_type": "markdown",
      "source": [
        "** constants and variables**"
      ],
      "metadata": {
        "id": "fEcnAM503ukM"
      }
    },
    {
      "cell_type": "code",
      "source": [
        "superhero=\"iron man\"\n",
        "print(superhero)"
      ],
      "metadata": {
        "colab": {
          "base_uri": "https://localhost:8080/"
        },
        "id": "d1BkESz23sAj",
        "outputId": "60b97cff-353c-48b2-d853-7eb30b842baf"
      },
      "execution_count": null,
      "outputs": [
        {
          "output_type": "stream",
          "name": "stdout",
          "text": [
            "iron man\n"
          ]
        }
      ]
    },
    {
      "cell_type": "code",
      "source": [
        "hero1,hero2,hero3 = \"xman\",\"iron man\",\"captain america\""
      ],
      "metadata": {
        "id": "bCH5StK04OJC"
      },
      "execution_count": null,
      "outputs": []
    },
    {
      "cell_type": "code",
      "source": [
        "print(hero1)\n",
        "print(hero2)\n",
        "print(hero3)"
      ],
      "metadata": {
        "colab": {
          "base_uri": "https://localhost:8080/"
        },
        "id": "JTvXidv0_NL0",
        "outputId": "f269da2f-7975-41d0-e5a3-ad8fbe50d127"
      },
      "execution_count": null,
      "outputs": [
        {
          "output_type": "stream",
          "name": "stdout",
          "text": [
            "xman\n",
            "iron man\n",
            "captain america\n"
          ]
        }
      ]
    },
    {
      "cell_type": "code",
      "source": [
        "x=y=z=122\n",
        "print(x)\n",
        "print(y)\n",
        "print(z)"
      ],
      "metadata": {
        "colab": {
          "base_uri": "https://localhost:8080/"
        },
        "id": "-5tvRp1-_Yhs",
        "outputId": "5c5266b4-50a7-40da-84cb-c79a2c78a82f"
      },
      "execution_count": null,
      "outputs": [
        {
          "output_type": "stream",
          "name": "stdout",
          "text": [
            "122\n",
            "122\n",
            "122\n"
          ]
        }
      ]
    },
    {
      "cell_type": "code",
      "source": [],
      "metadata": {
        "id": "gGoBw91u_lNC"
      },
      "execution_count": null,
      "outputs": []
    },
    {
      "cell_type": "markdown",
      "source": [
        "Input function"
      ],
      "metadata": {
        "id": "svhkU-w7_sOu"
      }
    },
    {
      "cell_type": "code",
      "source": [
        "input_1=int(input(\"enter the first number\"))\n",
        "input_2=int(input(\"enter the second number\"))\n",
        "sum=input_1 + input_2\n",
        "print(sum)"
      ],
      "metadata": {
        "colab": {
          "base_uri": "https://localhost:8080/"
        },
        "id": "pKyV49o4_uqP",
        "outputId": "adb3cd8d-3a2b-4eeb-b873-399ec87ccda7"
      },
      "execution_count": null,
      "outputs": [
        {
          "output_type": "stream",
          "name": "stdout",
          "text": [
            "enter the first number12\n",
            "enter the second number23\n",
            "35\n"
          ]
        }
      ]
    },
    {
      "cell_type": "markdown",
      "source": [
        "#changing the datatype"
      ],
      "metadata": {
        "id": "W03zQkEvA7dz"
      }
    },
    {
      "cell_type": "code",
      "source": [
        "num=5\n",
        "print(float(num))"
      ],
      "metadata": {
        "colab": {
          "base_uri": "https://localhost:8080/"
        },
        "id": "7U0KAaMeBBRe",
        "outputId": "bffee5d3-d26f-4342-a57a-069fc3680d9e"
      },
      "execution_count": null,
      "outputs": [
        {
          "output_type": "stream",
          "name": "stdout",
          "text": [
            "5.0\n"
          ]
        }
      ]
    },
    {
      "cell_type": "code",
      "source": [
        "print(factorial_value(5))\n",
        "\n"
      ],
      "metadata": {
        "id": "5zRTVbhiF3In"
      },
      "execution_count": null,
      "outputs": []
    }
  ]
}